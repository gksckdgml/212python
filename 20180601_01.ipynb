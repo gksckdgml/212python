{
 "cells": [
  {
   "cell_type": "code",
   "execution_count": 1,
   "metadata": {},
   "outputs": [
    {
     "name": "stdout",
     "output_type": "stream",
     "text": [
      "사각형의 가로(x) : 55\n",
      "사각형의 세로(y) : 66\n",
      "함수가 실행중입니다\n",
      "사각형의 면적은 ?: 3630\n"
     ]
    }
   ],
   "source": [
    "def c_R_Area(x,y):\n",
    "    print(\"함수가 실행중입니다\")\n",
    "    return x * y\n",
    "\n",
    "r_x = 55\n",
    "r_y = 66\n",
    "\n",
    "print(\"사각형의 가로(x) :\", r_x)\n",
    "print(\"사각형의 세로(y) :\", r_y)\n",
    "print(\"사각형의 면적은 ?:\", c_R_Area(r_x, r_y))"
   ]
  },
  {
   "cell_type": "code",
   "execution_count": 3,
   "metadata": {},
   "outputs": [
    {
     "name": "stdout",
     "output_type": "stream",
     "text": [
      "--> 매개변수를 받아서 합산후 출력하는 함수 :  30\n"
     ]
    }
   ],
   "source": [
    "def b_type(x, y):\n",
    "    add = x + y\n",
    "    print(\"--> 매개변수를 받아서 합산후 출력하는 함수 : \", add)\n",
    "    \n",
    "b_type(10, 20)"
   ]
  },
  {
   "cell_type": "code",
   "execution_count": 5,
   "metadata": {},
   "outputs": [
    {
     "name": "stdout",
     "output_type": "stream",
     "text": [
      "Python Programming\n"
     ]
    }
   ],
   "source": [
    "def c_type():\n",
    "    return \"Python Programming\"\n",
    "\n",
    "print(c_type())"
   ]
  },
  {
   "cell_type": "code",
   "execution_count": 7,
   "metadata": {},
   "outputs": [
    {
     "name": "stdout",
     "output_type": "stream",
     "text": [
      "10 + 20 =  30\n"
     ]
    }
   ],
   "source": [
    "def d_type(x,y):\n",
    "    add = x + y\n",
    "    return add\n",
    "\n",
    "print(\"10 + 20 = \",d_type(10,20))"
   ]
  },
  {
   "cell_type": "code",
   "execution_count": 12,
   "metadata": {},
   "outputs": [
    {
     "name": "stdout",
     "output_type": "stream",
     "text": [
      "함수 실행전 초기값 :  10\n",
      "함수 안에서의 값 :  20\n",
      "함수 실행후 초기값 :  10\n"
     ]
    }
   ],
   "source": [
    "def test(t):\n",
    "    t = 20\n",
    "    print(\"함수 안에서의 값 : \", t)\n",
    "    \n",
    "x = 10\n",
    "print(\"함수 실행전 초기값 : \", x)\n",
    "test(x)\n",
    "print(\"함수 실행후 초기값 : \", x)"
   ]
  },
  {
   "cell_type": "code",
   "execution_count": 14,
   "metadata": {},
   "outputs": [
    {
     "name": "stdout",
     "output_type": "stream",
     "text": [
      "1867657387632\n",
      "1867657381008\n",
      "London~\n",
      "Paris....\n"
     ]
    }
   ],
   "source": [
    "def f():\n",
    "    s = \"London~\"\n",
    "    print(id(s))\n",
    "    print(s)\n",
    "    \n",
    "s = \"Paris....\"\n",
    "print(id(s))\n",
    "f()\n",
    "print(s)"
   ]
  },
  {
   "cell_type": "code",
   "execution_count": 19,
   "metadata": {},
   "outputs": [
    {
     "name": "stdout",
     "output_type": "stream",
     "text": [
      "1867657252232\n",
      "1867657252232\n",
      "eggs=2,3--- 1867656509960\n",
      "[0, 1]\n",
      "1867657252232\n"
     ]
    }
   ],
   "source": [
    "def spam(eggs):\n",
    "    eggs.append(1)\n",
    "    print(id(eggs))\n",
    "    eggs = [2,3]\n",
    "    print(\"eggs=2,3---\",id(eggs))\n",
    "    \n",
    "ham = [0]\n",
    "print(id(ham))\n",
    "spam(ham)\n",
    "print(ham)\n",
    "print(id(ham))"
   ]
  },
  {
   "cell_type": "code",
   "execution_count": 22,
   "metadata": {},
   "outputs": [
    {
     "name": "stdout",
     "output_type": "stream",
     "text": [
      "10\n",
      "1758031616\n",
      "1758031936\n",
      "함수 안 :  20\n"
     ]
    }
   ],
   "source": [
    "def test(t):\n",
    "    print(x)\n",
    "    print(id(t))\n",
    "    t = 20\n",
    "    print(id(t))\n",
    "    print(\"함수 안 : \", t)\n",
    "    \n",
    "x = 10\n",
    "test(x)\n",
    "#print(t)"
   ]
  },
  {
   "cell_type": "code",
   "execution_count": 30,
   "metadata": {},
   "outputs": [
    {
     "name": "stdout",
     "output_type": "stream",
     "text": [
      "1- 1867638824304\n",
      "2- 1867638824304\n",
      "함수안 -  Paris....\n",
      "London~\n",
      "3- 1867657542824\n",
      "London~\n",
      "4- 1867657542824\n"
     ]
    }
   ],
   "source": [
    "def f():\n",
    "    global s\n",
    "    print(\"2-\",id(s))\n",
    "    print(\"함수안 - \",s)\n",
    "    s = \"London~\"\n",
    "    print(s)\n",
    "    print(\"3-\",id(s))    \n",
    "    \n",
    "s = \"Paris....\"\n",
    "print(\"1-\",id(s))\n",
    "\n",
    "f()\n",
    "print(s)\n",
    "print(\"4-\",id(s))"
   ]
  },
  {
   "cell_type": "code",
   "execution_count": 134,
   "metadata": {},
   "outputs": [
    {
     "name": "stdout",
     "output_type": "stream",
     "text": [
      "1- 1867657374640\n",
      "2- 1867657374576\n",
      "함수안 -  Paris....\n",
      "Paris....\n",
      "3- 1867657374576\n",
      "Paris....\n",
      "4- 1867657374576\n"
     ]
    }
   ],
   "source": [
    "def f():\n",
    "    print(\"2-\",id(s))\n",
    "    print(\"함수안 - \",s)\n",
    "#    s = \"London~\"\n",
    "    print(s)\n",
    "    print(\"3-\",id(s))    \n",
    "\n",
    "print(\"1-\",id(s))\n",
    "s = \"Paris....\"\n",
    "f()\n",
    "print(s)\n",
    "print(\"4-\",id(s))"
   ]
  },
  {
   "cell_type": "code",
   "execution_count": 135,
   "metadata": {},
   "outputs": [
    {
     "name": "stdout",
     "output_type": "stream",
     "text": [
      "123\n",
      "함수안 :  20\n"
     ]
    }
   ],
   "source": [
    "def test():\n",
    "    print(x)\n",
    "    t = 20\n",
    "    print(\"함수안 : \", t)\n",
    "    \n",
    "x = \"123\"\n",
    "test()\n",
    "#print(t)"
   ]
  },
  {
   "cell_type": "code",
   "execution_count": 152,
   "metadata": {},
   "outputs": [
    {
     "name": "stdout",
     "output_type": "stream",
     "text": [
      "1 2\n",
      "          swap_1 -  1 2\n",
      "[1, 2]\n",
      "          swap_2 -  [2, 1]\n",
      "[1, 2]\n",
      "          swap_3 -  [2, 1]\n"
     ]
    }
   ],
   "source": [
    "def swap_0(x,y):\n",
    "    return y,x\n",
    "\n",
    "def swap_1(x,y):\n",
    "    temp = x\n",
    "    x = y\n",
    "    y = temp\n",
    "    \n",
    "def swap_2(o_x,o_y):\n",
    "    temp = a[o_x]\n",
    "    a[o_x] = a[o_y]\n",
    "    a[o_y] = temp\n",
    "    \n",
    "def swap_3(list,o_x,o_y):\n",
    "    temp = list[o_x]\n",
    "    list[o_x] = list[o_y]\n",
    "    list[o_y] = temp\n",
    "    \n",
    "a = 1\n",
    "b = 2\n",
    "print(a,b)\n",
    "swap_1(a,b)\n",
    "print(\"          swap_1 - \",a,b)\n",
    "\n",
    "a = [1,2]\n",
    "print(a)\n",
    "swap_2(0,1)\n",
    "print(\"          swap_2 - \",a)\n",
    "\n",
    "a = [1,2]\n",
    "print(a)\n",
    "swap_3(a,0,1)\n",
    "print(\"          swap_3 - \",a)"
   ]
  },
  {
   "cell_type": "code",
   "execution_count": 154,
   "metadata": {},
   "outputs": [
    {
     "name": "stdout",
     "output_type": "stream",
     "text": [
      "[1, 2, 3]  -  [11, 12, 13]\n",
      "[11, 12, 13]  -  [1, 2, 3]\n",
      "[1, 2, 3]  -  aaa\n",
      "aaa  -  [1, 2, 3]\n"
     ]
    }
   ],
   "source": [
    "a = [1,2,3]\n",
    "b = [11,12,13]\n",
    "print(a,\" - \",b)\n",
    "a,b = b,a\n",
    "print(a,\" - \",b)\n",
    "\n",
    "a = [1,2,3]\n",
    "b = \"aaa\"\n",
    "print(a,\" - \",b)\n",
    "a,b = b,a\n",
    "print(a,\" - \",b)"
   ]
  }
 ],
 "metadata": {
  "kernelspec": {
   "display_name": "Python 3",
   "language": "python",
   "name": "python3"
  },
  "language_info": {
   "codemirror_mode": {
    "name": "ipython",
    "version": 3
   },
   "file_extension": ".py",
   "mimetype": "text/x-python",
   "name": "python",
   "nbconvert_exporter": "python",
   "pygments_lexer": "ipython3",
   "version": "3.6.4"
  }
 },
 "nbformat": 4,
 "nbformat_minor": 2
}
