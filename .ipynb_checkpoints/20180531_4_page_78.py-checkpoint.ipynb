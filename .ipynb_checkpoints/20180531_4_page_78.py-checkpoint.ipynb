{
 "cells": [
  {
   "cell_type": "code",
   "execution_count": 2,
   "metadata": {},
   "outputs": [
    {
     "name": "stdout",
     "output_type": "stream",
     "text": [
      "어디까지 구할까요 ? : 10\n",
      ">>> 1부터 10까지 홀수의 누적합 : 25\n"
     ]
    }
   ],
   "source": [
    "cnt = 1\n",
    "sum = 0\n",
    "number = int(eval(input(\"어디까지 구할까요 ? : \")))\n",
    "\n",
    "while cnt <= number:\n",
    "    sum += cnt\n",
    "    cnt += 2\n",
    "print(\">>> 1부터 %d까지 홀수의 누적합 : %d\" %(number, sum))"
   ]
  },
  {
   "cell_type": "code",
   "execution_count": 7,
   "metadata": {},
   "outputs": [
    {
     "name": "stdout",
     "output_type": "stream",
     "text": [
      "어디까지 구할까요 ? : 10\n"
     ]
    }
   ],
   "source": [
    "cnt = 1\n",
    "sum = 0\n",
    "number = int(eval(input(\"어디까지 구할까요 ? : \")))"
   ]
  },
  {
   "cell_type": "code",
   "execution_count": 9,
   "metadata": {},
   "outputs": [
    {
     "name": "stdout",
     "output_type": "stream",
     "text": [
      ">>> 1부터 10까지 홀수의 누적합 : 25\n"
     ]
    }
   ],
   "source": [
    "while cnt <= number:\n",
    "    if cnt % 2 == 0:\n",
    "        pass\n",
    "    else:\n",
    "        sum += cnt\n",
    "    cnt += 1\n",
    "print(\">>> 1부터 %d까지 홀수의 누적합 : %d\" %(number, sum))"
   ]
  },
  {
   "cell_type": "code",
   "execution_count": 11,
   "metadata": {},
   "outputs": [
    {
     "name": "stdout",
     "output_type": "stream",
     "text": [
      ">>>  2 단 출력 <<<\n",
      "  2 x  1 =  2 \n",
      "  2 x  2 =  4 \n",
      "  2 x  3 =  6 \n",
      "  2 x  4 =  8 \n",
      "  2 x  5 = 10 \n",
      "  2 x  6 = 12 \n",
      "  2 x  7 = 14 \n",
      "  2 x  8 = 16 \n",
      "  2 x  9 = 18 \n",
      ">>>  3 단 출력 <<<\n",
      "  3 x  1 =  3 \n",
      "  3 x  2 =  6 \n",
      "  3 x  3 =  9 \n",
      "  3 x  4 = 12 \n",
      "  3 x  5 = 15 \n",
      "  3 x  6 = 18 \n",
      "  3 x  7 = 21 \n",
      "  3 x  8 = 24 \n",
      "  3 x  9 = 27 \n",
      ">>>  4 단 출력 <<<\n",
      "  4 x  1 =  4 \n",
      "  4 x  2 =  8 \n",
      "  4 x  3 = 12 \n",
      "  4 x  4 = 16 \n",
      "  4 x  5 = 20 \n",
      "  4 x  6 = 24 \n",
      "  4 x  7 = 28 \n",
      "  4 x  8 = 32 \n",
      "  4 x  9 = 36 \n",
      ">>>  5 단 출력 <<<\n",
      "  5 x  1 =  5 \n",
      "  5 x  2 = 10 \n",
      "  5 x  3 = 15 \n",
      "  5 x  4 = 20 \n",
      "  5 x  5 = 25 \n",
      "  5 x  6 = 30 \n",
      "  5 x  7 = 35 \n",
      "  5 x  8 = 40 \n",
      "  5 x  9 = 45 \n",
      ">>>  6 단 출력 <<<\n",
      "  6 x  1 =  6 \n",
      "  6 x  2 = 12 \n",
      "  6 x  3 = 18 \n",
      "  6 x  4 = 24 \n",
      "  6 x  5 = 30 \n",
      "  6 x  6 = 36 \n",
      "  6 x  7 = 42 \n",
      "  6 x  8 = 48 \n",
      "  6 x  9 = 54 \n",
      ">>>  7 단 출력 <<<\n",
      "  7 x  1 =  7 \n",
      "  7 x  2 = 14 \n",
      "  7 x  3 = 21 \n",
      "  7 x  4 = 28 \n",
      "  7 x  5 = 35 \n",
      "  7 x  6 = 42 \n",
      "  7 x  7 = 49 \n",
      "  7 x  8 = 56 \n",
      "  7 x  9 = 63 \n",
      ">>>  8 단 출력 <<<\n",
      "  8 x  1 =  8 \n",
      "  8 x  2 = 16 \n",
      "  8 x  3 = 24 \n",
      "  8 x  4 = 32 \n",
      "  8 x  5 = 40 \n",
      "  8 x  6 = 48 \n",
      "  8 x  7 = 56 \n",
      "  8 x  8 = 64 \n",
      "  8 x  9 = 72 \n",
      ">>>  9 단 출력 <<<\n",
      "  9 x  1 =  9 \n",
      "  9 x  2 = 18 \n",
      "  9 x  3 = 27 \n",
      "  9 x  4 = 36 \n",
      "  9 x  5 = 45 \n",
      "  9 x  6 = 54 \n",
      "  9 x  7 = 63 \n",
      "  9 x  8 = 72 \n",
      "  9 x  9 = 81 \n"
     ]
    }
   ],
   "source": [
    "dan = 0\n",
    "cnt = 0\n",
    "for dan in range(2,10):\n",
    "    print(\">>> %2d 단 출력 <<<\" %dan)\n",
    "    for i in range(1,10):\n",
    "        print(\" %2d x %2d = %2d \" %(dan, i, dan * i))"
   ]
  }
 ],
 "metadata": {
  "kernelspec": {
   "display_name": "Python 3",
   "language": "python",
   "name": "python3"
  },
  "language_info": {
   "codemirror_mode": {
    "name": "ipython",
    "version": 3
   },
   "file_extension": ".py",
   "mimetype": "text/x-python",
   "name": "python",
   "nbconvert_exporter": "python",
   "pygments_lexer": "ipython3",
   "version": "3.6.4"
  }
 },
 "nbformat": 4,
 "nbformat_minor": 2
}
