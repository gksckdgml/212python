{
 "cells": [
  {
   "cell_type": "code",
   "execution_count": 2,
   "metadata": {},
   "outputs": [],
   "source": [
    "list = [[\"비온뒤 하늘 색은?\",\"파란색\"],[\"곰동이 푸가 넘어지면?\",\"쿵푸\"],[\"개미네 집 주소는 ?\",\"허리도 가늘군 만지면 부러지리\"]]\n"
   ]
  },
  {
   "cell_type": "code",
   "execution_count": 5,
   "metadata": {},
   "outputs": [
    {
     "name": "stdout",
     "output_type": "stream",
     "text": [
      "문제 : 비온뒤 하늘 색은? :파란색\n",
      "정답\n",
      "문제 : 곰동이 푸가 넘어지면? :ㅎ\n",
      "오답, 정답은 : 쿵푸\n",
      "문제 : 개미네 집 주소는 ? :ㅎ\n",
      "오답, 정답은 : 허리도 가늘군 만지면 부러지리\n",
      "당신은 3중에 1를 맞추어 33%를 맞췄습니다.\n"
     ]
    }
   ],
   "source": [
    "score = 0\n",
    "\n",
    "for i in range(len(list)):\n",
    "    an = input(\"문제 : \" + list[i][0] + \" :\")\n",
    "    if an == list[i][1]:\n",
    "        print(\"정답\")\n",
    "        score += 1\n",
    "    else:\n",
    "        print(\"오답, 정답은 : \" + list[i][1])\n",
    "        \n",
    "per = str(round(score / len(list) * 100),1)\n",
    "print(\"당신은 \" + str(len(list)) + \"중에 \" + str(score) + \"를 맞추어 \" + per + \"%를 맞췄습니다.\")"
   ]
  },
  {
   "cell_type": "code",
   "execution_count": null,
   "metadata": {},
   "outputs": [],
   "source": []
  }
 ],
 "metadata": {
  "kernelspec": {
   "display_name": "Python 3",
   "language": "python",
   "name": "python3"
  },
  "language_info": {
   "codemirror_mode": {
    "name": "ipython",
    "version": 3
   },
   "file_extension": ".py",
   "mimetype": "text/x-python",
   "name": "python",
   "nbconvert_exporter": "python",
   "pygments_lexer": "ipython3",
   "version": "3.6.4"
  }
 },
 "nbformat": 4,
 "nbformat_minor": 2
}
