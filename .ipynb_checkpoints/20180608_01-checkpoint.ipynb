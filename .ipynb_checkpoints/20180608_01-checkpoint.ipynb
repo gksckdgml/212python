{
 "cells": [
  {
   "cell_type": "code",
   "execution_count": 18,
   "metadata": {
    "scrolled": true
   },
   "outputs": [],
   "source": [
    "fp = open(\"animals.csv\",\"w\",encoding=\"utf-8\")\n",
    "fp.write(\"강아지,dog\\n고양이,cat\\n물고기,fish\\n원숭이,monkey\")\n",
    "fp.close()"
   ]
  },
  {
   "cell_type": "code",
   "execution_count": 20,
   "metadata": {},
   "outputs": [
    {
     "name": "stdout",
     "output_type": "stream",
     "text": [
      "강아지,dog\n",
      "고양이,cat\n",
      "물고기,fish\n",
      "원숭이,monkey\n"
     ]
    }
   ],
   "source": [
    "with open(\"animals.csv\",\"r\",encoding=\"utf-8\") as fp:\n",
    "    text = fp.read()\n",
    "print(text)"
   ]
  },
  {
   "cell_type": "code",
   "execution_count": 22,
   "metadata": {},
   "outputs": [],
   "source": [
    "text_1 = text.split(\"\\n\")"
   ]
  },
  {
   "cell_type": "code",
   "execution_count": 24,
   "metadata": {},
   "outputs": [
    {
     "data": {
      "text/plain": [
       "['강아지,dog', '고양이,cat', '물고기,fish', '원숭이,monkey']"
      ]
     },
     "execution_count": 24,
     "metadata": {},
     "output_type": "execute_result"
    }
   ],
   "source": [
    "text_1"
   ]
  },
  {
   "cell_type": "code",
   "execution_count": 28,
   "metadata": {},
   "outputs": [],
   "source": [
    "text_2 = [i.split(\",\") for i in text_1]"
   ]
  },
  {
   "cell_type": "code",
   "execution_count": 30,
   "metadata": {},
   "outputs": [
    {
     "data": {
      "text/plain": [
       "[['강아지', 'dog'], ['고양이', 'cat'], ['물고기', 'fish'], ['원숭이', 'monkey']]"
      ]
     },
     "execution_count": 30,
     "metadata": {},
     "output_type": "execute_result"
    }
   ],
   "source": [
    "text_2"
   ]
  },
  {
   "cell_type": "code",
   "execution_count": 33,
   "metadata": {},
   "outputs": [
    {
     "data": {
      "text/plain": [
       "'강아지,dog\\n고양이,cat\\n물고기,fish\\n원숭이,monkey'"
      ]
     },
     "execution_count": 33,
     "metadata": {},
     "output_type": "execute_result"
    }
   ],
   "source": [
    "text"
   ]
  },
  {
   "cell_type": "code",
   "execution_count": 35,
   "metadata": {},
   "outputs": [
    {
     "name": "stdout",
     "output_type": "stream",
     "text": [
      "['강아지,dog\\n', '고양이,cat\\n', '물고기,fish\\n', '원숭이,monkey']\n"
     ]
    }
   ],
   "source": [
    "with open(\"animals.csv\",\"r\",encoding=\"utf-8\") as fp:\n",
    "    text_line = fp.readlines()\n",
    "print(text_line)"
   ]
  },
  {
   "cell_type": "code",
   "execution_count": 45,
   "metadata": {},
   "outputs": [
    {
     "data": {
      "text/plain": [
       "['강아지,dog', '고양이,cat', '물고기,fish', '원숭이,monkey']"
      ]
     },
     "execution_count": 45,
     "metadata": {},
     "output_type": "execute_result"
    }
   ],
   "source": [
    "a = [ i.strip() for i in text_line]\n",
    "a"
   ]
  },
  {
   "cell_type": "code",
   "execution_count": null,
   "metadata": {},
   "outputs": [],
   "source": []
  }
 ],
 "metadata": {
  "kernelspec": {
   "display_name": "Python 3",
   "language": "python",
   "name": "python3"
  },
  "language_info": {
   "codemirror_mode": {
    "name": "ipython",
    "version": 3
   },
   "file_extension": ".py",
   "mimetype": "text/x-python",
   "name": "python",
   "nbconvert_exporter": "python",
   "pygments_lexer": "ipython3",
   "version": "3.6.4"
  }
 },
 "nbformat": 4,
 "nbformat_minor": 2
}
