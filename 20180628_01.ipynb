{
 "cells": [
  {
   "cell_type": "code",
   "execution_count": 20,
   "metadata": {},
   "outputs": [
    {
     "name": "stdout",
     "output_type": "stream",
     "text": [
      "달을 선택하세요 (1~12)? ㅇ\n",
      "달은 1~12 사이의 값으로 입력해 주세요\n"
     ]
    }
   ],
   "source": [
    "try:\n",
    "    m = eval(input(\"달을 선택하세요 (1~12)? \"))\n",
    "    ml = [\"1월\",\"2월\",\"3월\",\"4월\",\"5월\",\"6월\",\"7월\",\"8월\",\"9월\",\"10월\",\"11월\",\"12월\"]\n",
    "    if 1<= m <=12:\n",
    "        print(\"month is \", ml[m-1])\n",
    "        print(\"month is \" + ml[m-1])\n",
    "    else:\n",
    "        print(\"달은 1~12 사이의 값으로 입력해 주세요\")\n",
    "except:\n",
    "    print(\"달은 1~12 사이의 값으로 입력해 주세요\")"
   ]
  },
  {
   "cell_type": "code",
   "execution_count": 21,
   "metadata": {},
   "outputs": [
    {
     "name": "stdout",
     "output_type": "stream",
     "text": [
      "남성은 1번, 여성은 2번을 입력해 주세요 : 1\n",
      "키를 입력해 주세요. 예) 180 : 190\n",
      "--- 농구경기\n"
     ]
    }
   ],
   "source": [
    "s = eval(input(\"남성은 1번, 여성은 2번을 입력해 주세요 : \"))\n",
    "if s == 1:\n",
    "    t = eval(input(\"키를 입력해 주세요. 예) 180 : \"))\n",
    "    if t >= 180:\n",
    "        print(\"--- 농구경기\")\n",
    "    else:\n",
    "        print(\"--- 축구경기\")\n",
    "elif s == 2:\n",
    "    w = eval(input(\"몸무게를 입력해 주세요. 예) 50 : \"))\n",
    "    if t <= 70:\n",
    "        print(\"--- 배구경기\")\n",
    "    else:\n",
    "        print(\"--- 피구경기\")\n",
    "else:\n",
    "    print(\"남성은 1번, 여성은 2번을 입력해 주세요.\")"
   ]
  }
 ],
 "metadata": {
  "kernelspec": {
   "display_name": "Python 3",
   "language": "python",
   "name": "python3"
  },
  "language_info": {
   "codemirror_mode": {
    "name": "ipython",
    "version": 3
   },
   "file_extension": ".py",
   "mimetype": "text/x-python",
   "name": "python",
   "nbconvert_exporter": "python",
   "pygments_lexer": "ipython3",
   "version": "3.6.4"
  }
 },
 "nbformat": 4,
 "nbformat_minor": 2
}
